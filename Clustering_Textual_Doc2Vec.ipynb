{
  "nbformat": 4,
  "nbformat_minor": 0,
  "metadata": {
    "colab": {
      "name": "Clustering Textual Doc2Vec.ipynb",
      "provenance": [],
      "collapsed_sections": []
    },
    "kernelspec": {
      "name": "python3",
      "display_name": "Python 3"
    }
  },
  "cells": [
    {
      "cell_type": "markdown",
      "metadata": {
        "id": "ykv-M1KCuL8-"
      },
      "source": [
        "# Clustering Textual Doc2Vec"
      ]
    },
    {
      "cell_type": "markdown",
      "metadata": {
        "id": "bTbAgUQsuNqG"
      },
      "source": [
        "Clustering (agrupamento) é uma das tarefas mais icônicas dentro da área de aprendizado não-supervisionado. Nela, um algoritmo aprende a detectar \"grupos naturais\" dentro do nosso conjunto de dados.\r\n",
        "\r\n",
        "Neste material, nos dedicamos à criação de modelos de clustering textual. O agrupamento de textos semelhantes pode ser uma tarefa muito útil para muitas aplicações. Entretanto, pode se tornar muito difícil, dada a natureza ruidosa e complexa da linguagem humana natural. Além disso, algoritmos não-supervisionados são complexos de treinar, já que não possuímos um \"alvo\" ao qual tentamos nos aproximar.\r\n"
      ]
    },
    {
      "cell_type": "markdown",
      "metadata": {
        "id": "WIoXkP3GjJ9N"
      },
      "source": [
        "## Dados utilizados"
      ]
    },
    {
      "cell_type": "markdown",
      "metadata": {
        "id": "-CCo8F3AjN8N"
      },
      "source": [
        "Vamos usar os dados do dataset 20newsgroups disponível através do Sklearn.\r\n",
        "\r\n",
        "Os dados utilizados já possuem rótulos definidos, o que nos ajudará a avaliar a qualidade do agrupamento feito.\r\n",
        " \r\n",
        "*Obs. A tarefa de clusterização faz parte dos algoritmos não supervisionados, utilizamos os rótulos do dataset apenas com caráter avaliativo, em nenhum momento eles são usados para treinar nenhum modelo.*"
      ]
    },
    {
      "cell_type": "code",
      "metadata": {
        "id": "kH35AIaWSXx8",
        "colab": {
          "base_uri": "https://localhost:8080/"
        },
        "outputId": "4a4b32fa-df8a-4233-bc78-0aafd740f943"
      },
      "source": [
        "from sklearn.datasets import fetch_20newsgroups\r\n",
        "\r\n",
        "data = fetch_20newsgroups(subset='all', \r\n",
        "                          random_state=214, \r\n",
        "                          remove=('headers', 'footers', 'quotes'))\r\n",
        "\r\n",
        "text_original, text_labels = data['data'], data['target']\r\n",
        "label_names = data['target_names']"
      ],
      "execution_count": null,
      "outputs": [
        {
          "output_type": "stream",
          "text": [
            "Downloading 20news dataset. This may take a few minutes.\n",
            "Downloading dataset from https://ndownloader.figshare.com/files/5975967 (14 MB)\n"
          ],
          "name": "stderr"
        }
      ]
    },
    {
      "cell_type": "code",
      "metadata": {
        "colab": {
          "base_uri": "https://localhost:8080/",
          "height": 70
        },
        "id": "dxJs73s_TrBT",
        "outputId": "67846f96-4c11-4e8f-91c0-50431f382283"
      },
      "source": [
        "text_original[0]"
      ],
      "execution_count": null,
      "outputs": [
        {
          "output_type": "execute_result",
          "data": {
            "application/vnd.google.colaboratory.intrinsic+json": {
              "type": "string"
            },
            "text/plain": [
              "'I like option C of the new space station design.. \\nIt needs some work, but it is simple and elegant..\\n\\nIts about time someone got into simple construction versus overly complex...\\n\\nBasically just strap some rockets and a nose cone on the habitat and go for\\nit..\\n\\nMight be an idea for a Moon/Mars base to.. '"
            ]
          },
          "metadata": {
            "tags": []
          },
          "execution_count": 3
        }
      ]
    },
    {
      "cell_type": "markdown",
      "metadata": {
        "id": "1P0fbhHB-TLJ"
      },
      "source": [
        "Para prosseguir, iremos tokenizar os textos com uso do NLTK, além de realizar um procedimento de stemming e remoção de stopwords.\r\n"
      ]
    },
    {
      "cell_type": "code",
      "metadata": {
        "colab": {
          "base_uri": "https://localhost:8080/"
        },
        "id": "cK-v_TfokE49",
        "outputId": "6acca701-c3d8-431c-cd15-fd006e2eba1a"
      },
      "source": [
        "import nltk\r\n",
        "import nltk.corpus\r\n",
        "from nltk.tokenize import word_tokenize\r\n",
        "from nltk.corpus import stopwords\r\n",
        "from nltk.stem.snowball import SnowballStemmer\r\n",
        "\r\n",
        "nltk.download('punkt')\r\n",
        "nltk.download('stopwords')\r\n",
        "\r\n",
        "text_corpus = [word_tokenize(text) for text in text_original]"
      ],
      "execution_count": null,
      "outputs": [
        {
          "output_type": "stream",
          "text": [
            "[nltk_data] Downloading package punkt to /root/nltk_data...\n",
            "[nltk_data]   Unzipping tokenizers/punkt.zip.\n",
            "[nltk_data] Downloading package stopwords to /root/nltk_data...\n",
            "[nltk_data]   Unzipping corpora/stopwords.zip.\n"
          ],
          "name": "stdout"
        }
      ]
    },
    {
      "cell_type": "code",
      "metadata": {
        "id": "dvvyVlwCAPTw"
      },
      "source": [
        "stemmer = SnowballStemmer(language=\"english\")\r\n",
        "en_stopwords = stopwords.words('english')\r\n",
        "text_corpus = [ [ stemmer.stem(word) for word in sentence if word.lower() not in en_stopwords ] for sentence in text_corpus ]"
      ],
      "execution_count": null,
      "outputs": []
    },
    {
      "cell_type": "code",
      "metadata": {
        "colab": {
          "base_uri": "https://localhost:8080/"
        },
        "id": "HQzf5VUvkILM",
        "outputId": "f3e91330-aee8-4103-9f23-b09df640e385"
      },
      "source": [
        "print(text_corpus[0])\r\n",
        "print(text_corpus[1])\r\n",
        "print(text_corpus[2])"
      ],
      "execution_count": null,
      "outputs": [
        {
          "output_type": "stream",
          "text": [
            "['like', 'option', 'c', 'new', 'space', 'station', 'design..', 'need', 'work', ',', 'simpl', 'elegant..', 'time', 'someon', 'got', 'simpl', 'construct', 'versus', 'over', 'complex', '...', 'basic', 'strap', 'rocket', 'nose', 'cone', 'habitat', 'go', 'it..', 'might', 'idea', 'moon/mar', 'base', 'to..']\n",
            "['mcsdc1jpb', '@', 'dct.ac.uk', '(', 'john', 'bell', ')', 'babbl', 'scotland', ',', 'one', 'england', 'last', 'remain', 'coloni', ':', 'peopl', 'dumb', 'enough', 'believ', 'klinton', 'moder', 'deserv', 'get', '.', \"'s\", 'real', 'laugh', 'hear', 'tri', 'justifi', 'massacr', 'bullsh*t', 'concern', 'tax', 'money', 'spent', '.', '(', 'wast', 'money', 'keep', 'texan', 'aliv', '?', 'hell', '.', 'let', 'spend', 'import', 'haitian', 'aid', 'treat', 'taxpay', 'expens', '.', '%', '^p', ')', '?', 'fed', 'kill', '90+', 'civilian', '``', 'ran', 'patienc', \"''\", ',', 'use', 'phrase', '.', 'fed', \"n't\", 'attack', ',', \"'d\", 'home', 'eat', 'dinner', 'famili', 'tonight', '.', 'bad', ',', 'start', '.', 'mayb', 'next', 'time', 'll', 'think', 'twice', '.', \"'s\", 'worth', '4', 'stormtroop', '.', 'nobodi', 'say', '.', 'victim', 'left-w', 'govern', ',', 'violat', 'pledg', 'protect', 'uphold', 'constitut', ',', 'run', 'amok', '.', \"n't\", 'worri', ',', 'though', 'dweeb', ',', 're', 'gon', 'na', 'take', 'back', '.', '(', 'hey', ',', \"'m\", 'white', 'guy', ',', 'would', 'ok', 'quot', 'malcolm', 'x', ',', 'said', '``', 'mean', 'necessari', \"''\", '?', 'nah', ',', 'never', 'mind', '.', 'legal', '...', ',', 're', 'brainless', 'f*cking', 'trogladyt', '.', 'go', 'beat', 'soccer', 'fan', '.', 'ignor', 'bliss', ',', 'drool', 'stupid', 'smile', 'face', 'peopl', 'die', 'needless', '.', 'hope', 'badger', 'climb', 'kilt', '.', '(', \"n't\", 'expect', 'uki', 'care', ',', 'folk', '...', 'bastard', 'never', 'like', 'idea', 'american', 'mean', 'defend', 'would', \"n't\", 'stand', 'tyran', 'govern', ',', 'sent', 'pack', 'back', 'dreari', 'littl', 'island', 'tail', 'leg', 'twice', '.', ')']\n",
            "['_know_', \"n't\", 'get', 'involv', ',', '...', ':', '-', ')', '[', 'bit', 'delet', ']', 'righto', ',', 'dan', ',', 'tri', 'one', 'cornflak', '...', 'book', 'say', 'muhammad', 'either', 'liar', ',', 'crazi', '(', 'modern', 'day', 'mad', 'mahdi', ')', 'actual', 'said', '.', 'reason', 'would', \"n't\", 'liar', 'follow', '.', 'would', 'die', 'lie', '?', 'would', \"n't\", 'peopl', 'abl', 'tell', 'liar', '?', 'peopl', 'gather', 'around', 'kept', ',', 'mani', 'gather', 'hear', 'see', 'son-in-law', 'made', 'sun', 'stand', 'still', '.', 'call', 'fool', ',', 'believ', 'make', 'sun', 'stand', 'still', '.', 'niether', 'lunat', '.', 'would', 'entir', 'nation', 'drawn', 'someon', 'crazi', '.', 'doubt', ',', 'fact', 'redicul', '.', 'exampl', 'anyon', 'drawn', 'mad', 'mahdi', 'obvious', 'fool', ',', 'logic', 'peopl', 'see', 'right', 'away', '.', 'therefor', 'sinc', \"n't\", 'liar', 'lunat', ',', 'must', 'real', 'thing', '.', '--']\n"
          ],
          "name": "stdout"
        }
      ]
    },
    {
      "cell_type": "markdown",
      "metadata": {
        "id": "sREFrbd-i4YG"
      },
      "source": [
        "## Doc2Vec"
      ]
    },
    {
      "cell_type": "markdown",
      "metadata": {
        "id": "6IjycLnEi6ld"
      },
      "source": [
        "Para implementar a vetorização de documentos, utilizaremos o Gensim com sua implementação do Doc2Vec."
      ]
    },
    {
      "cell_type": "code",
      "metadata": {
        "colab": {
          "base_uri": "https://localhost:8080/"
        },
        "id": "3tANvPwHnXA7",
        "outputId": "94d8990c-6edc-49ed-b6c9-8ef58fbac567"
      },
      "source": [
        "!pip show gensim"
      ],
      "execution_count": null,
      "outputs": [
        {
          "output_type": "stream",
          "text": [
            "Name: gensim\n",
            "Version: 3.6.0\n",
            "Summary: Python framework for fast Vector Space Modelling\n",
            "Home-page: http://radimrehurek.com/gensim\n",
            "Author: Radim Rehurek\n",
            "Author-email: me@radimrehurek.com\n",
            "License: LGPLv2.1\n",
            "Location: /usr/local/lib/python3.6/dist-packages\n",
            "Requires: six, scipy, numpy, smart-open\n",
            "Required-by: \n"
          ],
          "name": "stdout"
        }
      ]
    },
    {
      "cell_type": "markdown",
      "metadata": {
        "id": "Me1FNmjJq8x-"
      },
      "source": [
        "Um pré requisito do modelo Doc2Vec do Gensim é que os textos sejam transformados em TaggedDocuments."
      ]
    },
    {
      "cell_type": "code",
      "metadata": {
        "id": "uCMvndS_i6BU"
      },
      "source": [
        "import gensim\r\n",
        "from gensim.models import Doc2Vec\r\n",
        "\r\n",
        "# To use gensim's doc2vec model, all texts need to be TaggedDocument objects \r\n",
        "\r\n",
        "tagged_text = [ gensim.models.doc2vec.TaggedDocument(text, [i]) for i,text in enumerate(text_corpus) ]"
      ],
      "execution_count": null,
      "outputs": []
    },
    {
      "cell_type": "markdown",
      "metadata": {
        "id": "nOENVvROm1qs"
      },
      "source": [
        "Agora, vamos instanciar e treinar o modelo Doc2Vec."
      ]
    },
    {
      "cell_type": "code",
      "metadata": {
        "colab": {
          "base_uri": "https://localhost:8080/"
        },
        "id": "yKSAZdjzmvRD",
        "outputId": "a57e02b7-8d74-45f5-eb4a-90f67818aa9f"
      },
      "source": [
        "%%time\r\n",
        "doc2vec_model = Doc2Vec(tagged_text,                    \r\n",
        "                        vector_size=250,\r\n",
        "                        epochs=120,\r\n",
        "                        min_count=5,\r\n",
        "                        workers=4, # Computacional Parameters\r\n",
        "                        seed=214)\r\n"
      ],
      "execution_count": null,
      "outputs": [
        {
          "output_type": "stream",
          "text": [
            "CPU times: user 28min 28s, sys: 1min 7s, total: 29min 35s\n",
            "Wall time: 17min 7s\n"
          ],
          "name": "stdout"
        }
      ]
    },
    {
      "cell_type": "markdown",
      "metadata": {
        "id": "zCSUuOQrtUdy"
      },
      "source": [
        "Para acessar os vetores por documentos, utilizamos a tag criada para cada TaggedDocument."
      ]
    },
    {
      "cell_type": "code",
      "metadata": {
        "colab": {
          "base_uri": "https://localhost:8080/"
        },
        "id": "kuwQcxj8o8g7",
        "outputId": "a0f15dbc-3ba5-4ad9-dda0-9741c764eb93"
      },
      "source": [
        "doc2vec_model.docvecs[0].shape"
      ],
      "execution_count": null,
      "outputs": [
        {
          "output_type": "execute_result",
          "data": {
            "text/plain": [
              "(250,)"
            ]
          },
          "metadata": {
            "tags": []
          },
          "execution_count": 10
        }
      ]
    },
    {
      "cell_type": "code",
      "metadata": {
        "id": "7cAl5AOu0Efh"
      },
      "source": [
        "text_vectors = doc2vec_model.docvecs.vectors_docs"
      ],
      "execution_count": null,
      "outputs": []
    },
    {
      "cell_type": "markdown",
      "metadata": {
        "id": "mzBEDv5Cbiye"
      },
      "source": [
        "## Clustering com KMeans"
      ]
    },
    {
      "cell_type": "markdown",
      "metadata": {
        "id": "VFy1sGPGkVxp"
      },
      "source": [
        "A primeira abordagem proposta é aplicar o algoritmo de clusterização diretamente nos vetores criados.\r\n",
        "\r\n",
        "Utilizamos o algoritmo KMeans disponível no Sklearn. \r\n",
        "\r\n",
        "Já sabemos, a priori, que os textos se dividem em 20 classes. Porém, com o intuito de simular um algoritmo criado às cegas, iremos instanciar o modelo do KMeans com 10 clusters.\r\n"
      ]
    },
    {
      "cell_type": "code",
      "metadata": {
        "colab": {
          "base_uri": "https://localhost:8080/"
        },
        "id": "mm-ecTIqblfH",
        "outputId": "1907d193-2175-4b51-9c6d-b38fe17cda08"
      },
      "source": [
        "%%time\r\n",
        "from sklearn.cluster import KMeans\r\n",
        "\r\n",
        "from sklearn.metrics import homogeneity_score\r\n",
        "from sklearn.metrics import completeness_score\r\n",
        "\r\n",
        "import numpy as np\r\n",
        "\r\n",
        "km_clt = KMeans(10, n_init=200, random_state=214)\r\n",
        "vector_labels = km_clt.fit_predict(text_vectors)"
      ],
      "execution_count": null,
      "outputs": [
        {
          "output_type": "stream",
          "text": [
            "CPU times: user 4min 5s, sys: 1min, total: 5min 6s\n",
            "Wall time: 3min 56s\n"
          ],
          "name": "stdout"
        }
      ]
    },
    {
      "cell_type": "markdown",
      "metadata": {
        "id": "jHIbf8DBrj1y"
      },
      "source": [
        "Para avaliar a natureza dos clusters criados, iremos contar quantos textos de cada classe se encontram em cada um deles.\r\n",
        "\r\n",
        "O ideal é que um mesmo cluster contenha somente textos de classes semelhantes."
      ]
    },
    {
      "cell_type": "code",
      "metadata": {
        "colab": {
          "base_uri": "https://localhost:8080/",
          "height": 428
        },
        "id": "yBxRaqpodjsA",
        "outputId": "92144f7b-a769-449d-fda3-a10f8a25e4f4"
      },
      "source": [
        "import pandas as pd\r\n",
        "from seaborn import heatmap\r\n",
        "import matplotlib.pyplot as plt\r\n",
        "\r\n",
        "df = pd.DataFrame()\r\n",
        "for i in range( len(np.unique(km_clt.labels_)) ):\r\n",
        "  unique, counts = np.unique(text_labels[np.where(vector_labels==i)[0]], \r\n",
        "                             return_counts=True)\r\n",
        "  \r\n",
        "  df_aux = pd.DataFrame( dict(zip(unique, counts)), index=[i+1] )\r\n",
        "  df = pd.concat([df, df_aux], axis=0)\r\n",
        "\r\n",
        "df=df.fillna(0)\r\n",
        "df=df.rename(columns=dict(enumerate(label_names)))\r\n",
        "df=df.astype('int32')\r\n",
        "\r\n",
        "heatmap(df)\r\n",
        "print( \"Homogeneity Score - \", homogeneity_score(text_labels,vector_labels) )\r\n",
        "print( \"Completeness Score - \", completeness_score(text_labels,vector_labels) )"
      ],
      "execution_count": null,
      "outputs": [
        {
          "output_type": "stream",
          "text": [
            "Homogeneity Score -  0.29272160207768916\n",
            "Completeness Score -  0.4513588478144568\n"
          ],
          "name": "stdout"
        },
        {
          "output_type": "display_data",
          "data": {
            "image/png": "[encoded data removed]",
            "text/plain": [
              "<Figure size 432x288 with 2 Axes>"
            ]
          },
          "metadata": {
            "tags": [],
            "needs_background": "light"
          }
        }
      ]
    },
    {
      "cell_type": "markdown",
      "metadata": {
        "id": "D4ZsNMWRs0Ik"
      },
      "source": [
        "Como podemos ver, o algoritmo foi capaz de capturar razoávelmente bem os assuntos textuais. Os grupos criados consguem agrupar temas similares com \"alta consistência\", isto é, contendo majoritariamente textos da mesma temática.\r\n",
        "\r\n",
        "O cluster 9, por exemplo, agrupa todos os temas relacionados à hardware e eletrônica. Por mais que eles estejam originalmente separados no nosso dataset, esses temas possuem forte correlação entre si, fato confirmado pelo KMeans.\r\n",
        "\r\n",
        "O mesmo se repete para o cluster 8, que contém temas voltados à religião, etc.\r\n",
        "\r\n",
        "Isto demonstra, também, que nossos vetores Doc2Vec de fato conseguem representar a semântica textual, fazendo com que textos semelhantes fiquem mais próximos, ao ponto de formar núcleos ao longo do espaço vetorial.\r\n",
        "\r\n",
        "Em contra partida, boa parte dos textos ainda se encontra \"sem classe\", agrupados em um único grande cluster de tema \"indefinido\"."
      ]
    }
  ]
}